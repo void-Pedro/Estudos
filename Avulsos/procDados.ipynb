{
 "cells": [
  {
   "cell_type": "markdown",
   "metadata": {},
   "source": [
    "Atividade Avaliativa Contínua 5 - Padronização e Normalização no Python"
   ]
  },
  {
   "cell_type": "code",
   "execution_count": 1,
   "metadata": {},
   "outputs": [
    {
     "ename": "ModuleNotFoundError",
     "evalue": "No module named 'google'",
     "output_type": "error",
     "traceback": [
      "\u001b[1;31m---------------------------------------------------------------------------\u001b[0m",
      "\u001b[1;31mModuleNotFoundError\u001b[0m                       Traceback (most recent call last)",
      "\u001b[1;32mc:\\Users\\ADM\\Documents\\GitHub\\Estudos\\Avulsos\\procDados.ipynb Cell 2\u001b[0m line \u001b[0;36m3\n\u001b[0;32m      <a href='vscode-notebook-cell:/c%3A/Users/ADM/Documents/GitHub/Estudos/Avulsos/procDados.ipynb#W1sZmlsZQ%3D%3D?line=0'>1</a>\u001b[0m \u001b[39m#!pip install kaggle; #caso seja necessário atualizar a biblioteca no google colab\u001b[39;00m\n\u001b[1;32m----> <a href='vscode-notebook-cell:/c%3A/Users/ADM/Documents/GitHub/Estudos/Avulsos/procDados.ipynb#W1sZmlsZQ%3D%3D?line=2'>3</a>\u001b[0m \u001b[39mfrom\u001b[39;00m \u001b[39mgoogle\u001b[39;00m\u001b[39m.\u001b[39;00m\u001b[39mcolab\u001b[39;00m \u001b[39mimport\u001b[39;00m files\n\u001b[0;32m      <a href='vscode-notebook-cell:/c%3A/Users/ADM/Documents/GitHub/Estudos/Avulsos/procDados.ipynb#W1sZmlsZQ%3D%3D?line=3'>4</a>\u001b[0m files\u001b[39m.\u001b[39mupload() \u001b[39m#enviar o arquivo kaggle.json\u001b[39;00m\n\u001b[0;32m      <a href='vscode-notebook-cell:/c%3A/Users/ADM/Documents/GitHub/Estudos/Avulsos/procDados.ipynb#W1sZmlsZQ%3D%3D?line=5'>6</a>\u001b[0m \u001b[39m#antes de importar o dataset nós iremos provisionar o local de armazenamento\u001b[39;00m\n",
      "\u001b[1;31mModuleNotFoundError\u001b[0m: No module named 'google'"
     ]
    }
   ],
   "source": [
    "#!pip install kaggle; #caso seja necessário atualizar a biblioteca no google colab\n",
    "\n",
    "from google.colab import files\n",
    "files.upload() #enviar o arquivo kaggle.json\n",
    "\n",
    "#antes de importar o dataset nós iremos provisionar o local de armazenamento\n",
    "!mkdir -p ~/.kaggle\n",
    "!cp kaggle.json ~/.kaggle/\n",
    "#Alterar a permissão para evitar o aviso durante a partida da ferramenta Kaggle\n",
    "# This permissions change avoids a warning on Kaggle tool startup.\n",
    "!chmod 600 ~/.kaggle/kaggle.json\n",
    "\n",
    "#Aceitar a competição e copiar o endereço da API para o download do dataset\n",
    "!kaggle competitions download -c titanic\n",
    "\n",
    "#Descompactar o arquivo baixado\n",
    "!unzip \\*.zip  && rm *.zip"
   ]
  }
 ],
 "metadata": {
  "kernelspec": {
   "display_name": "Python 3",
   "language": "python",
   "name": "python3"
  },
  "language_info": {
   "codemirror_mode": {
    "name": "ipython",
    "version": 3
   },
   "file_extension": ".py",
   "mimetype": "text/x-python",
   "name": "python",
   "nbconvert_exporter": "python",
   "pygments_lexer": "ipython3",
   "version": "3.10.5"
  }
 },
 "nbformat": 4,
 "nbformat_minor": 2
}
